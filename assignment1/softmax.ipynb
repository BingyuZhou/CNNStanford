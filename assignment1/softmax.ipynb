{
 "cells": [
  {
   "cell_type": "markdown",
   "metadata": {},
   "source": [
    "# Softmax exercise\n",
    "\n",
    "*Complete and hand in this completed worksheet (including its outputs and any supporting code outside of the worksheet) with your assignment submission. For more details see the [assignments page](http://vision.stanford.edu/teaching/cs231n/assignments.html) on the course website.*\n",
    "\n",
    "This exercise is analogous to the SVM exercise. You will:\n",
    "\n",
    "- implement a fully-vectorized **loss function** for the Softmax classifier\n",
    "- implement the fully-vectorized expression for its **analytic gradient**\n",
    "- **check your implementation** with numerical gradient\n",
    "- use a validation set to **tune the learning rate and regularization** strength\n",
    "- **optimize** the loss function with **SGD**\n",
    "- **visualize** the final learned weights\n"
   ]
  },
  {
   "cell_type": "code",
   "execution_count": 2,
   "metadata": {
    "collapsed": true
   },
   "outputs": [],
   "source": [
    "import random\n",
    "import numpy as np\n",
    "from cs231n.data_utils import load_CIFAR10\n",
    "import matplotlib.pyplot as plt\n",
    "\n",
    "from __future__ import print_function\n",
    "\n",
    "%matplotlib inline\n",
    "plt.rcParams['figure.figsize'] = (10.0, 8.0) # set default size of plots\n",
    "plt.rcParams['image.interpolation'] = 'nearest'\n",
    "plt.rcParams['image.cmap'] = 'gray'\n",
    "\n",
    "# for auto-reloading extenrnal modules\n",
    "# see http://stackoverflow.com/questions/1907993/autoreload-of-modules-in-ipython\n",
    "%load_ext autoreload\n",
    "%autoreload 2"
   ]
  },
  {
   "cell_type": "code",
   "execution_count": 3,
   "metadata": {},
   "outputs": [
    {
     "name": "stdout",
     "output_type": "stream",
     "text": [
      "Train data shape:  (49000, 3073)\n",
      "Train labels shape:  (49000,)\n",
      "Validation data shape:  (1000, 3073)\n",
      "Validation labels shape:  (1000,)\n",
      "Test data shape:  (1000, 3073)\n",
      "Test labels shape:  (1000,)\n",
      "dev data shape:  (500, 3073)\n",
      "dev labels shape:  (500,)\n"
     ]
    }
   ],
   "source": [
    "def get_CIFAR10_data(num_training=49000, num_validation=1000, num_test=1000, num_dev=500):\n",
    "    \"\"\"\n",
    "    Load the CIFAR-10 dataset from disk and perform preprocessing to prepare\n",
    "    it for the linear classifier. These are the same steps as we used for the\n",
    "    SVM, but condensed to a single function.  \n",
    "    \"\"\"\n",
    "    # Load the raw CIFAR-10 data\n",
    "    cifar10_dir = 'cs231n/datasets/cifar-10-batches-py'\n",
    "    X_train, y_train, X_test, y_test = load_CIFAR10(cifar10_dir)\n",
    "    \n",
    "    # subsample the data\n",
    "    mask = list(range(num_training, num_training + num_validation))\n",
    "    X_val = X_train[mask]\n",
    "    y_val = y_train[mask]\n",
    "    mask = list(range(num_training))\n",
    "    X_train = X_train[mask]\n",
    "    y_train = y_train[mask]\n",
    "    mask = list(range(num_test))\n",
    "    X_test = X_test[mask]\n",
    "    y_test = y_test[mask]\n",
    "    mask = np.random.choice(num_training, num_dev, replace=False)\n",
    "    X_dev = X_train[mask]\n",
    "    y_dev = y_train[mask]\n",
    "    \n",
    "    # Preprocessing: reshape the image data into rows\n",
    "    X_train = np.reshape(X_train, (X_train.shape[0], -1))\n",
    "    X_val = np.reshape(X_val, (X_val.shape[0], -1))\n",
    "    X_test = np.reshape(X_test, (X_test.shape[0], -1))\n",
    "    X_dev = np.reshape(X_dev, (X_dev.shape[0], -1))\n",
    "    \n",
    "    # Normalize the data: subtract the mean image\n",
    "    mean_image = np.mean(X_train, axis = 0)\n",
    "    X_train -= mean_image\n",
    "    X_val -= mean_image\n",
    "    X_test -= mean_image\n",
    "    X_dev -= mean_image\n",
    "    \n",
    "    # add bias dimension and transform into columns\n",
    "    X_train = np.hstack([X_train, np.ones((X_train.shape[0], 1))])\n",
    "    X_val = np.hstack([X_val, np.ones((X_val.shape[0], 1))])\n",
    "    X_test = np.hstack([X_test, np.ones((X_test.shape[0], 1))])\n",
    "    X_dev = np.hstack([X_dev, np.ones((X_dev.shape[0], 1))])\n",
    "    \n",
    "    return X_train, y_train, X_val, y_val, X_test, y_test, X_dev, y_dev\n",
    "\n",
    "\n",
    "# Invoke the above function to get our data.\n",
    "X_train, y_train, X_val, y_val, X_test, y_test, X_dev, y_dev = get_CIFAR10_data()\n",
    "print('Train data shape: ', X_train.shape)\n",
    "print('Train labels shape: ', y_train.shape)\n",
    "print('Validation data shape: ', X_val.shape)\n",
    "print('Validation labels shape: ', y_val.shape)\n",
    "print('Test data shape: ', X_test.shape)\n",
    "print('Test labels shape: ', y_test.shape)\n",
    "print('dev data shape: ', X_dev.shape)\n",
    "print('dev labels shape: ', y_dev.shape)"
   ]
  },
  {
   "cell_type": "markdown",
   "metadata": {},
   "source": [
    "## Softmax Classifier\n",
    "\n",
    "Your code for this section will all be written inside **cs231n/classifiers/softmax.py**. \n"
   ]
  },
  {
   "cell_type": "code",
   "execution_count": 4,
   "metadata": {},
   "outputs": [
    {
     "name": "stdout",
     "output_type": "stream",
     "text": [
      "loss: 2.366952\n",
      "sanity check: 2.302585\n"
     ]
    }
   ],
   "source": [
    "# First implement the naive softmax loss function with nested loops.\n",
    "# Open the file cs231n/classifiers/softmax.py and implement the\n",
    "# softmax_loss_naive function.\n",
    "\n",
    "from cs231n.classifiers.softmax import softmax_loss_naive\n",
    "import time\n",
    "\n",
    "# Generate a random softmax weight matrix and use it to compute the loss.\n",
    "W = np.random.randn(3073, 10) * 0.0001\n",
    "loss, grad = softmax_loss_naive(W, X_dev, y_dev, 0.0)\n",
    "\n",
    "# As a rough sanity check, our loss should be something close to -log(0.1).\n",
    "print('loss: %f' % loss)\n",
    "print('sanity check: %f' % (-np.log(0.1)))"
   ]
  },
  {
   "cell_type": "markdown",
   "metadata": {},
   "source": [
    "## Inline Question 1:\n",
    "Why do we expect our loss to be close to -log(0.1)? Explain briefly.**\n",
    "\n",
    "**Your answer:** *Fill this in*\n"
   ]
  },
  {
   "cell_type": "code",
   "execution_count": 5,
   "metadata": {},
   "outputs": [
    {
     "name": "stdout",
     "output_type": "stream",
     "text": [
      "numerical: -0.159609 analytic: -0.159609, relative error: 2.438635e-07\n",
      "numerical: 0.551074 analytic: 0.551074, relative error: 7.040033e-08\n",
      "numerical: 0.633065 analytic: 0.633065, relative error: 1.669084e-08\n",
      "numerical: -5.317561 analytic: -5.317561, relative error: 4.473162e-09\n",
      "numerical: 2.972355 analytic: 2.972355, relative error: 2.880472e-08\n",
      "numerical: -2.506960 analytic: -2.506960, relative error: 7.393200e-09\n",
      "numerical: -3.092818 analytic: -3.092818, relative error: 9.601651e-09\n",
      "numerical: -3.168489 analytic: -3.168489, relative error: 1.296003e-09\n",
      "numerical: -5.337185 analytic: -5.337185, relative error: 1.139017e-08\n",
      "numerical: -3.618339 analytic: -3.618339, relative error: 7.811177e-09\n",
      "numerical: 3.640966 analytic: 3.640966, relative error: 1.735011e-08\n",
      "numerical: -1.397310 analytic: -1.397310, relative error: 4.003214e-08\n",
      "numerical: -1.544912 analytic: -1.544912, relative error: 2.135977e-08\n",
      "numerical: 1.381930 analytic: 1.381930, relative error: 9.280827e-09\n",
      "numerical: 5.132630 analytic: 5.132630, relative error: 1.713770e-08\n",
      "numerical: -4.410719 analytic: -4.410719, relative error: 9.109198e-10\n",
      "numerical: 1.919096 analytic: 1.919096, relative error: 3.442107e-08\n",
      "numerical: -0.305482 analytic: -0.305482, relative error: 5.487383e-10\n",
      "numerical: -0.591095 analytic: -0.591095, relative error: 4.721273e-08\n",
      "numerical: 0.745279 analytic: 0.745279, relative error: 1.638647e-08\n"
     ]
    }
   ],
   "source": [
    "# Complete the implementation of softmax_loss_naive and implement a (naive)\n",
    "# version of the gradient that uses nested loops.\n",
    "loss, grad = softmax_loss_naive(W, X_dev, y_dev, 0.0)\n",
    "\n",
    "# As we did for the SVM, use numeric gradient checking as a debugging tool.\n",
    "# The numeric gradient should be close to the analytic gradient.\n",
    "from cs231n.gradient_check import grad_check_sparse\n",
    "f = lambda w: softmax_loss_naive(w, X_dev, y_dev, 0.0)[0]\n",
    "grad_numerical = grad_check_sparse(f, W, grad, 10)\n",
    "\n",
    "# similar to SVM case, do another gradient check with regularization\n",
    "loss, grad = softmax_loss_naive(W, X_dev, y_dev, 5e1)\n",
    "f = lambda w: softmax_loss_naive(w, X_dev, y_dev, 5e1)[0]\n",
    "grad_numerical = grad_check_sparse(f, W, grad, 10)"
   ]
  },
  {
   "cell_type": "code",
   "execution_count": 12,
   "metadata": {},
   "outputs": [
    {
     "name": "stdout",
     "output_type": "stream",
     "text": [
      "naive loss: 2.366952e+00 computed in 0.132443s\n",
      "vectorized loss: 2.366952e+00 computed in 0.013514s\n",
      "Loss difference: 0.000000\n",
      "Gradient difference: 0.000000\n"
     ]
    }
   ],
   "source": [
    "# Now that we have a naive implementation of the softmax loss function and its gradient,\n",
    "# implement a vectorized version in softmax_loss_vectorized.\n",
    "# The two versions should compute the same results, but the vectorized version should be\n",
    "# much faster.\n",
    "tic = time.time()\n",
    "loss_naive, grad_naive = softmax_loss_naive(W, X_dev, y_dev, 0.000005)\n",
    "toc = time.time()\n",
    "print('naive loss: %e computed in %fs' % (loss_naive, toc - tic))\n",
    "\n",
    "from cs231n.classifiers.softmax import softmax_loss_vectorized\n",
    "tic = time.time()\n",
    "loss_vectorized, grad_vectorized = softmax_loss_vectorized(W, X_dev, y_dev, 0.000005)\n",
    "toc = time.time()\n",
    "print('vectorized loss: %e computed in %fs' % (loss_vectorized, toc - tic))\n",
    "\n",
    "# As we did for the SVM, we use the Frobenius norm to compare the two versions\n",
    "# of the gradient.\n",
    "grad_difference = np.linalg.norm(grad_naive - grad_vectorized, ord='fro')\n",
    "print('Loss difference: %f' % np.abs(loss_naive - loss_vectorized))\n",
    "print('Gradient difference: %f' % grad_difference)"
   ]
  },
  {
   "cell_type": "code",
   "execution_count": 17,
   "metadata": {},
   "outputs": [
    {
     "name": "stdout",
     "output_type": "stream",
     "text": [
      "lr 3.000000e-07 reg 2.500000e+04 train accuracy: 0.251592 val accuracy: 0.262000\n",
      "lr 3.000000e-07 reg 2.875000e+04 train accuracy: 0.325122 val accuracy: 0.337000\n",
      "lr 3.000000e-07 reg 3.250000e+04 train accuracy: 0.324959 val accuracy: 0.338000\n",
      "lr 3.000000e-07 reg 3.625000e+04 train accuracy: 0.320204 val accuracy: 0.327000\n",
      "lr 3.000000e-07 reg 4.000000e+04 train accuracy: 0.317653 val accuracy: 0.327000\n",
      "lr 3.250000e-07 reg 2.500000e+04 train accuracy: 0.321673 val accuracy: 0.336000\n",
      "lr 3.250000e-07 reg 2.875000e+04 train accuracy: 0.329327 val accuracy: 0.351000\n",
      "lr 3.250000e-07 reg 3.250000e+04 train accuracy: 0.317592 val accuracy: 0.342000\n",
      "lr 3.250000e-07 reg 3.625000e+04 train accuracy: 0.324143 val accuracy: 0.335000\n",
      "lr 3.250000e-07 reg 4.000000e+04 train accuracy: 0.315939 val accuracy: 0.329000\n",
      "lr 3.500000e-07 reg 2.500000e+04 train accuracy: 0.330571 val accuracy: 0.355000\n",
      "lr 3.500000e-07 reg 2.875000e+04 train accuracy: 0.319918 val accuracy: 0.338000\n",
      "lr 3.500000e-07 reg 3.250000e+04 train accuracy: 0.314102 val accuracy: 0.329000\n",
      "lr 3.500000e-07 reg 3.625000e+04 train accuracy: 0.316878 val accuracy: 0.333000\n",
      "lr 3.500000e-07 reg 4.000000e+04 train accuracy: 0.313061 val accuracy: 0.333000\n",
      "lr 3.750000e-07 reg 2.500000e+04 train accuracy: 0.328816 val accuracy: 0.350000\n",
      "lr 3.750000e-07 reg 2.875000e+04 train accuracy: 0.316449 val accuracy: 0.334000\n",
      "lr 3.750000e-07 reg 3.250000e+04 train accuracy: 0.314673 val accuracy: 0.337000\n",
      "lr 3.750000e-07 reg 3.625000e+04 train accuracy: 0.327245 val accuracy: 0.331000\n",
      "lr 3.750000e-07 reg 4.000000e+04 train accuracy: 0.299061 val accuracy: 0.314000\n",
      "lr 4.000000e-07 reg 2.500000e+04 train accuracy: 0.329694 val accuracy: 0.348000\n",
      "lr 4.000000e-07 reg 2.875000e+04 train accuracy: 0.318429 val accuracy: 0.330000\n",
      "lr 4.000000e-07 reg 3.250000e+04 train accuracy: 0.319408 val accuracy: 0.343000\n",
      "lr 4.000000e-07 reg 3.625000e+04 train accuracy: 0.320531 val accuracy: 0.339000\n",
      "lr 4.000000e-07 reg 4.000000e+04 train accuracy: 0.315224 val accuracy: 0.331000\n",
      "best validation accuracy achieved during cross-validation: 0.355000\n"
     ]
    }
   ],
   "source": [
    "# Use the validation set to tune hyperparameters (regularization strength and\n",
    "# learning rate). You should experiment with different ranges for the learning\n",
    "# rates and regularization strengths; if you are careful you should be able to\n",
    "# get a classification accuracy of over 0.35 on the validation set.\n",
    "from cs231n.classifiers import Softmax\n",
    "results = {}\n",
    "best_val = -1\n",
    "best_softmax = None\n",
    "learning_rates = [3e-7, 4e-7]\n",
    "regularization_strengths = [2.5e4, 4e4]\n",
    "\n",
    "softmax = Softmax()\n",
    "for rate in np.linspace(learning_rates[0], learning_rates[1], 5):\n",
    "    for reg in np.linspace(regularization_strengths[0], regularization_strengths[1], 5):\n",
    "        softmax.train(X_train, y_train, learning_rate=rate, reg=reg)\n",
    "        y_pred = softmax.predict(X_train)\n",
    "        accuracy_train = np.mean(y_pred==y_train)\n",
    "        \n",
    "        y_pred = softmax.predict(X_val)\n",
    "        accuracy_val = np.mean(y_pred==y_val)\n",
    "        results[(rate, reg)] = (accuracy_train, accuracy_val)\n",
    "        \n",
    "        if (accuracy_val>best_val):\n",
    "            best_val = accuracy_val\n",
    "            best_softmax = softmax\n",
    "    \n",
    "# Print out results.\n",
    "for lr, reg in sorted(results):\n",
    "    train_accuracy, val_accuracy = results[(lr, reg)]\n",
    "    print('lr %e reg %e train accuracy: %f val accuracy: %f' % (\n",
    "                lr, reg, train_accuracy, val_accuracy))\n",
    "    \n",
    "print('best validation accuracy achieved during cross-validation: %f' % best_val)"
   ]
  },
  {
   "cell_type": "code",
   "execution_count": 18,
   "metadata": {},
   "outputs": [
    {
     "name": "stdout",
     "output_type": "stream",
     "text": [
      "softmax on raw pixels final test set accuracy: 0.322000\n"
     ]
    }
   ],
   "source": [
    "# evaluate on test set\n",
    "# Evaluate the best softmax on test set\n",
    "y_test_pred = best_softmax.predict(X_test)\n",
    "test_accuracy = np.mean(y_test == y_test_pred)\n",
    "print('softmax on raw pixels final test set accuracy: %f' % (test_accuracy, ))"
   ]
  },
  {
   "cell_type": "code",
   "execution_count": 19,
   "metadata": {},
   "outputs": [
    {
     "data": {
      "image/png": "[encoded data removed]",
      "text/plain": [
       "<matplotlib.figure.Figure at 0x7f91a5989610>"
      ]
     },
     "metadata": {},
     "output_type": "display_data"
    }
   ],
   "source": [
    "# Visualize the learned weights for each class\n",
    "w = best_softmax.W[:-1,:] # strip out the bias\n",
    "w = w.reshape(32, 32, 3, 10)\n",
    "\n",
    "w_min, w_max = np.min(w), np.max(w)\n",
    "\n",
    "classes = ['plane', 'car', 'bird', 'cat', 'deer', 'dog', 'frog', 'horse', 'ship', 'truck']\n",
    "for i in range(10):\n",
    "    plt.subplot(2, 5, i + 1)\n",
    "    \n",
    "    # Rescale the weights to be between 0 and 255\n",
    "    wimg = 255.0 * (w[:, :, :, i].squeeze() - w_min) / (w_max - w_min)\n",
    "    plt.imshow(wimg.astype('uint8'))\n",
    "    plt.axis('off')\n",
    "    plt.title(classes[i])"
   ]
  },
  {
   "cell_type": "code",
   "execution_count": null,
   "metadata": {
    "collapsed": true
   },
   "outputs": [],
   "source": []
  }
 ],
 "metadata": {
  "kernelspec": {
   "display_name": "Python 2",
   "language": "python",
   "name": "python2"
  },
  "language_info": {
   "codemirror_mode": {
    "name": "ipython",
    "version": 2
   },
   "file_extension": ".py",
   "mimetype": "text/x-python",
   "name": "python",
   "nbconvert_exporter": "python",
   "pygments_lexer": "ipython2",
   "version": "2.7.13"
  }
 },
 "nbformat": 4,
 "nbformat_minor": 1
}
